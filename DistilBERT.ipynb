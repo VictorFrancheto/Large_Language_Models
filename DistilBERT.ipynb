{
 "cells": [
  {
   "cell_type": "markdown",
   "metadata": {},
   "source": [
    "# DistilBERT"
   ]
  },
  {
   "cell_type": "markdown",
   "metadata": {},
   "source": [
    "In this project, we will assist students who are starting to learn text analysis. The main objective is to build language applications using Hugging Face and natural language processing with transformersn this project, we will assist students who are starting to learn text analysis. The main objective is to build language applications using Hugging Face and natural language processing with transformers."
   ]
  },
  {
   "cell_type": "markdown",
   "metadata": {},
   "source": [
    "## Statistical Analyses on Texts\n",
    "\n",
    "The text analyses presented here are based on datasets available on the Hugging Face Hub (https://oreil.ly/959YT).\n",
    "\n",
    "For the analyses we will develop here, we use the dataset available at https://huggingface.co/datasets/vamossyd/finance_emotions."
   ]
  },
  {
   "cell_type": "markdown",
   "metadata": {},
   "source": [
    "#### Importing libraries"
   ]
  },
  {
   "cell_type": "code",
   "execution_count": 7,
   "metadata": {},
   "outputs": [],
   "source": [
    "import pandas as pd\n",
    "import seaborn as sns\n",
    "import matplotlib.pyplot as plt\n",
    "\n",
    "\n",
    "from datasets import load_dataset\n",
    "from huggingface_hub import list_datasets\n"
   ]
  },
  {
   "cell_type": "markdown",
   "metadata": {},
   "source": [
    "#### Importing the dataset"
   ]
  },
  {
   "cell_type": "code",
   "execution_count": 8,
   "metadata": {},
   "outputs": [
    {
     "data": {
      "text/plain": [
       "DatasetDict({\n",
       "    train: Dataset({\n",
       "        features: ['text', 'label'],\n",
       "        num_rows: 16000\n",
       "    })\n",
       "    validation: Dataset({\n",
       "        features: ['text', 'label'],\n",
       "        num_rows: 2000\n",
       "    })\n",
       "    test: Dataset({\n",
       "        features: ['text', 'label'],\n",
       "        num_rows: 2000\n",
       "    })\n",
       "})"
      ]
     },
     "execution_count": 8,
     "metadata": {},
     "output_type": "execute_result"
    }
   ],
   "source": [
    "emotions = load_dataset('emotion')\n",
    "emotions"
   ]
  },
  {
   "cell_type": "markdown",
   "metadata": {},
   "source": [
    "Note that, the dataset is a dictionary partitioned between `train`, `test` and `validation`. \n",
    "\n",
    "We can use the usual dictionary syntax to acess an individual split."
   ]
  },
  {
   "cell_type": "code",
   "execution_count": 9,
   "metadata": {},
   "outputs": [
    {
     "name": "stdout",
     "output_type": "stream",
     "text": [
      "The length of the dataset train is 16000\n",
      "The first information is {'text': 'i didnt feel humiliated', 'label': 0}\n",
      "The column names are ['text', 'label']\n",
      "Theattribute of dataset object are {'text': Value(dtype='string', id=None), 'label': ClassLabel(names=['sadness', 'joy', 'love', 'anger', 'fear', 'surprise'], id=None)}\n"
     ]
    }
   ],
   "source": [
    "X_train = emotions['train']\n",
    "print(f'The length of the dataset train is {len(X_train)}')\n",
    "\n",
    "# If we want to access the first information, we can do:\n",
    "print(f'The first information is {X_train[0]}')\n",
    "\n",
    "# If we want to see the column names, we can do:\n",
    "print(f'The column names are {X_train.column_names}')\n",
    "\n",
    "# If we want to see the attribute of dataset object, we can do:\n",
    "print(f'Theattribute of dataset object are {X_train.features}')\n"
   ]
  },
  {
   "cell_type": "markdown",
   "metadata": {},
   "source": [
    "To develop our analyses, we will convert the dataset into a DataFrame.\n"
   ]
  },
  {
   "cell_type": "code",
   "execution_count": 10,
   "metadata": {},
   "outputs": [
    {
     "data": {
      "text/html": [
       "<div>\n",
       "<style scoped>\n",
       "    .dataframe tbody tr th:only-of-type {\n",
       "        vertical-align: middle;\n",
       "    }\n",
       "\n",
       "    .dataframe tbody tr th {\n",
       "        vertical-align: top;\n",
       "    }\n",
       "\n",
       "    .dataframe thead th {\n",
       "        text-align: right;\n",
       "    }\n",
       "</style>\n",
       "<table border=\"1\" class=\"dataframe\">\n",
       "  <thead>\n",
       "    <tr style=\"text-align: right;\">\n",
       "      <th></th>\n",
       "      <th>text</th>\n",
       "      <th>label</th>\n",
       "    </tr>\n",
       "  </thead>\n",
       "  <tbody>\n",
       "    <tr>\n",
       "      <th>0</th>\n",
       "      <td>i didnt feel humiliated</td>\n",
       "      <td>0</td>\n",
       "    </tr>\n",
       "    <tr>\n",
       "      <th>1</th>\n",
       "      <td>i can go from feeling so hopeless to so damned...</td>\n",
       "      <td>0</td>\n",
       "    </tr>\n",
       "    <tr>\n",
       "      <th>2</th>\n",
       "      <td>im grabbing a minute to post i feel greedy wrong</td>\n",
       "      <td>3</td>\n",
       "    </tr>\n",
       "    <tr>\n",
       "      <th>3</th>\n",
       "      <td>i am ever feeling nostalgic about the fireplac...</td>\n",
       "      <td>2</td>\n",
       "    </tr>\n",
       "    <tr>\n",
       "      <th>4</th>\n",
       "      <td>i am feeling grouchy</td>\n",
       "      <td>3</td>\n",
       "    </tr>\n",
       "  </tbody>\n",
       "</table>\n",
       "</div>"
      ],
      "text/plain": [
       "                                                text  label\n",
       "0                            i didnt feel humiliated      0\n",
       "1  i can go from feeling so hopeless to so damned...      0\n",
       "2   im grabbing a minute to post i feel greedy wrong      3\n",
       "3  i am ever feeling nostalgic about the fireplac...      2\n",
       "4                               i am feeling grouchy      3"
      ]
     },
     "execution_count": 10,
     "metadata": {},
     "output_type": "execute_result"
    }
   ],
   "source": [
    "emotions.set_format(type='pandas')\n",
    "df_train = emotions['train'][:]\n",
    "df_train.head()"
   ]
  },
  {
   "cell_type": "markdown",
   "metadata": {},
   "source": [
    "The column headers have been preserved, and the first few rows match our previous view of the data. However, the labels are represented as integers, so let's use the `int2str()` method of the label feature to create a new column in our DataFrame with the corresponding label names."
   ]
  },
  {
   "cell_type": "code",
   "execution_count": 11,
   "metadata": {},
   "outputs": [
    {
     "data": {
      "text/html": [
       "<div>\n",
       "<style scoped>\n",
       "    .dataframe tbody tr th:only-of-type {\n",
       "        vertical-align: middle;\n",
       "    }\n",
       "\n",
       "    .dataframe tbody tr th {\n",
       "        vertical-align: top;\n",
       "    }\n",
       "\n",
       "    .dataframe thead th {\n",
       "        text-align: right;\n",
       "    }\n",
       "</style>\n",
       "<table border=\"1\" class=\"dataframe\">\n",
       "  <thead>\n",
       "    <tr style=\"text-align: right;\">\n",
       "      <th></th>\n",
       "      <th>text</th>\n",
       "      <th>label</th>\n",
       "      <th>label_name</th>\n",
       "    </tr>\n",
       "  </thead>\n",
       "  <tbody>\n",
       "    <tr>\n",
       "      <th>0</th>\n",
       "      <td>i didnt feel humiliated</td>\n",
       "      <td>0</td>\n",
       "      <td>sadness</td>\n",
       "    </tr>\n",
       "    <tr>\n",
       "      <th>1</th>\n",
       "      <td>i can go from feeling so hopeless to so damned...</td>\n",
       "      <td>0</td>\n",
       "      <td>sadness</td>\n",
       "    </tr>\n",
       "    <tr>\n",
       "      <th>2</th>\n",
       "      <td>im grabbing a minute to post i feel greedy wrong</td>\n",
       "      <td>3</td>\n",
       "      <td>anger</td>\n",
       "    </tr>\n",
       "    <tr>\n",
       "      <th>3</th>\n",
       "      <td>i am ever feeling nostalgic about the fireplac...</td>\n",
       "      <td>2</td>\n",
       "      <td>love</td>\n",
       "    </tr>\n",
       "    <tr>\n",
       "      <th>4</th>\n",
       "      <td>i am feeling grouchy</td>\n",
       "      <td>3</td>\n",
       "      <td>anger</td>\n",
       "    </tr>\n",
       "  </tbody>\n",
       "</table>\n",
       "</div>"
      ],
      "text/plain": [
       "                                                text  label label_name\n",
       "0                            i didnt feel humiliated      0    sadness\n",
       "1  i can go from feeling so hopeless to so damned...      0    sadness\n",
       "2   im grabbing a minute to post i feel greedy wrong      3      anger\n",
       "3  i am ever feeling nostalgic about the fireplac...      2       love\n",
       "4                               i am feeling grouchy      3      anger"
      ]
     },
     "execution_count": 11,
     "metadata": {},
     "output_type": "execute_result"
    }
   ],
   "source": [
    "def input_label(row):\n",
    "    return emotions['train'].features['label'].int2str(row)\n",
    "\n",
    "# Applying the function\n",
    "df_train['label_name'] = df_train['label'].apply(input_label)\n",
    "df_train.head()"
   ]
  },
  {
   "cell_type": "markdown",
   "metadata": {},
   "source": [
    "Let's check the class distribution"
   ]
  },
  {
   "cell_type": "code",
   "execution_count": 12,
   "metadata": {},
   "outputs": [
    {
     "data": {
      "image/png": "[encoded data removed]",
      "text/plain": [
       "<Figure size 1000x600 with 1 Axes>"
      ]
     },
     "metadata": {},
     "output_type": "display_data"
    }
   ],
   "source": [
    "# Count the frequency of values in 'label_name'\n",
    "label_counts = df_train['label_name'].value_counts()\n",
    "\n",
    "# Create the bar chart\n",
    "plt.figure(figsize=(10, 6))\n",
    "sns.barplot(x=label_counts.index, y=label_counts.values, color='#40E0D0')\n",
    "# Customize the chart\n",
    "plt.title(\"Frequency Distribution of Label Names\", fontsize=16)\n",
    "plt.xlabel(\"Label Names\", fontsize=10)\n",
    "plt.ylabel(\"Frequency\", fontsize=10)\n",
    "plt.xticks(fontsize=9)\n",
    "plt.yticks(fontsize=9)\n",
    "\n",
    "# Show the chart\n",
    "plt.tight_layout()\n",
    "plt.show()\n"
   ]
  },
  {
   "cell_type": "markdown",
   "metadata": {},
   "source": [
    "Obviously, there are imbalanced classes: for example, **surprise**, **love**, **fear**, and **anger** are minority classes compared to **joy** and **sadness**.\n",
    "\n",
    "At the present moment, we are working with imbalanced classes. If necessary, we will adjust the classes.\n",
    "\n",
    "**Note**: For applications using DistilBERT, the maximum context size is $512$ tokens, wich amounts to a few paragraphs of text."
   ]
  },
  {
   "cell_type": "markdown",
   "metadata": {},
   "source": [
    "**Question:** Can we approximate tweet lengths for each emotion by analyzing the word distribution per tweet?"
   ]
  },
  {
   "cell_type": "code",
   "execution_count": 13,
   "metadata": {},
   "outputs": [
    {
     "data": {
      "image/png": "[encoded data removed]",
      "text/plain": [
       "<Figure size 1200x600 with 1 Axes>"
      ]
     },
     "metadata": {},
     "output_type": "display_data"
    }
   ],
   "source": [
    "df_train['words_tweet'] = df_train['text'].str.split().apply(len)\n",
    "\n",
    "sns.set_theme(style=\"white\")  \n",
    "\n",
    "# Create the improved boxplot\n",
    "plt.figure(figsize=(12, 6))\n",
    "sns.boxplot(\n",
    "    x='label_name', \n",
    "    y='words_tweet', \n",
    "    data=df_train, \n",
    "    color='#40E0D0',       \n",
    "    showfliers=False,       \n",
    "    width=0.6,             \n",
    "    linewidth=1.5       \n",
    ")\n",
    "\n",
    "# Customize the title and labels\n",
    "plt.title(\"Boxplot of Words per Tweet by Emotion\", fontsize=16, pad=15)  \n",
    "plt.xlabel(\"Emotions\", fontsize=12, labelpad=10)                         \n",
    "plt.ylabel(\"Number of Words\", fontsize=12, labelpad=10)                  \n",
    "plt.xticks(fontsize=10)                                                  \n",
    "plt.yticks(fontsize=10)                                                  \n",
    "plt.tight_layout()\n",
    "plt.show()\n"
   ]
  },
  {
   "cell_type": "markdown",
   "metadata": {},
   "source": [
    "Through the boxplot, we can see that for each emotion, the majority of tweets have around 15 words, and the other tweets are shorter than DistilBERT's maximum context size.\n",
    "Texts longer than the model's context size must be truncated, which can result in performance degradation if the truncated text contains critical information. However, in this case, it does not appear to be an issue.\n",
    "\n",
    "The next step is to transform the texts into tokens.\n",
    "\n",
    "\n",
    "\n",
    "\n",
    "\n",
    "\n",
    "\n"
   ]
  },
  {
   "cell_type": "markdown",
   "metadata": {},
   "source": [
    "### What is a Token?\n",
    "\n",
    "A **token** is a small piece of text that a computer can understand. When we give a sentence to a program, it breaks the sentence into smaller parts called tokens.\n",
    "\n",
    "#### Examples:\n",
    "1. **Full sentence:** \"I like cats.\"\n",
    "2. **Tokens (small parts):**\n",
    "   - As words: `[\"I\", \"like\", \"cats\"]`\n",
    "   - As smaller pieces: `[\"I\", \"li\", \"ke\", \"ca\", \"ts\"]`\n",
    "\n",
    "The computer uses these tokens to turn text into numbers, because computers work with numbers, not words.\n",
    "\n",
    "#### Why is this important?\n",
    "Imagine teaching a robot to understand text. It can’t read full sentences like humans do. But if we split the sentence into tokens, the robot can learn what each piece means and how they connect to each other.\n",
    "\n",
    "#### Simple Comparison:\n",
    "Tokens are like puzzle pieces. Each piece alone doesn’t tell much, but when you put them together, they form the full picture (or the meaning of the text).\n"
   ]
  },
  {
   "cell_type": "markdown",
   "metadata": {},
   "source": [
    "### Tokenization\n",
    "\n",
    "The simplest tokenization method is to treat each character as a token and feed them individually to the model. In Python, `str` objects work like arrays internally, making it quick and easy to implement character-level tokenization.\n",
    "\n",
    "Here is a simple example."
   ]
  },
  {
   "cell_type": "code",
   "execution_count": 14,
   "metadata": {},
   "outputs": [
    {
     "name": "stdout",
     "output_type": "stream",
     "text": [
      "I love NLP!\n",
      "['I', ' ', 'l', 'o', 'v', 'e', ' ', 'N', 'L', 'P', '!']\n"
     ]
    }
   ],
   "source": [
    "input_text = input('Insert a text:') #I love NLP.\n",
    "print(input_text)\n",
    "\n",
    "tokenized_text = list(input_text)\n",
    "print(tokenized_text)"
   ]
  },
  {
   "cell_type": "markdown",
   "metadata": {},
   "source": [
    "All models expect each character to be converted into an integer, a process sometimes called **numericalization**.\n",
    "\n",
    "We can perform **numericalization** as follows:"
   ]
  },
  {
   "cell_type": "code",
   "execution_count": 15,
   "metadata": {},
   "outputs": [
    {
     "name": "stdout",
     "output_type": "stream",
     "text": [
      "{' ': 0, '!': 1, 'I': 2, 'L': 3, 'N': 4, 'P': 5, 'e': 6, 'l': 7, 'o': 8, 'v': 9}\n"
     ]
    }
   ],
   "source": [
    "unique_chars = sorted(set(tokenized_text))\n",
    "tokenized_idx = dict(zip(unique_chars, range(len(unique_chars))))\n",
    "print(tokenized_idx)"
   ]
  },
  {
   "cell_type": "markdown",
   "metadata": {},
   "source": [
    "Using **tokenized_idx** we can to transform the tokenized text to a list of integers. "
   ]
  },
  {
   "cell_type": "code",
   "execution_count": 16,
   "metadata": {},
   "outputs": [
    {
     "name": "stdout",
     "output_type": "stream",
     "text": [
      "[2, 0, 7, 8, 9, 6, 0, 4, 3, 5, 1]\n"
     ]
    }
   ],
   "source": [
    "idx = [tokenized_idx[token] for token in tokenized_text]\n",
    "print(idx)"
   ]
  },
  {
   "cell_type": "markdown",
   "metadata": {},
   "source": [
    "Note that each token is associated with a unique numerical value. The final step is to convert the **idx** into a $2D$ tensor of one-hot encoded vectors."
   ]
  },
  {
   "cell_type": "markdown",
   "metadata": {},
   "source": [
    "### What is One-Hot Encoding?\n",
    "\n",
    "A **one-hot encoded** representation is a way of converting categorical data (like words, characters, or labels) into a binary format that a machine learning model can process. It uses a vector where:\n",
    "\n",
    "- **Only one position is \"hot\" (1):** The position corresponding to the category is set to `1`.\n",
    "- **All other positions are \"cold\" (0):** All other positions are set to `0`.\n",
    "\n",
    "#### Example\n",
    "\n",
    "If you have three categories: `[\"cat\", \"dog\", \"fish\"]`, each one can be represented as a vector in a one-hot encoded format:\n",
    "\n",
    "- `cat` → `[1, 0, 0]`\n",
    "- `dog` → `[0, 1, 0]`\n",
    "- `fish` → `[0, 0, 1]`\n",
    "\n",
    "The index of `1` corresponds to the category's position in the list.\n",
    "\n",
    "#### Why is it Useful?\n",
    "\n",
    "1. **Machine learning models:**  \n",
    "   Models like neural networks work with numbers, not text, so one-hot encoding helps translate text into numerical input.\n",
    "\n",
    "2. **No order imposed:**  \n",
    "   One-hot encoding ensures that categories are treated as equally distinct, with no implied order or hierarchy.\n"
   ]
  },
  {
   "cell_type": "markdown",
   "metadata": {},
   "source": [
    "### What is a Tensor?\n",
    "\n",
    "A **tensor** is a mathematical object that is a generalization of scalars, vectors, and matrices to higher dimensions. It’s the fundamental building block in many machine learning and deep learning frameworks, such as TensorFlow and PyTorch.\n",
    "\n",
    "#### Examples of Tensors by Dimension\n",
    "\n",
    "- **0D Tensor (Scalar):** A single number.  \n",
    "  Example: `5` or `3.14`\n",
    "  \n",
    "- **1D Tensor (Vector):** A one-dimensional array of numbers.  \n",
    "  Example: `[1, 2, 3]`\n",
    "  \n",
    "- **2D Tensor (Matrix):** A two-dimensional array of numbers.  \n",
    "  Example:  `[[1, 2, 3], [4, 5, 6]]`\n",
    "\n",
    "- **3D Tensor:** A collection of matrices (like a cube of numbers).  \n",
    "  Example: `[[[1, 2], [3, 4]], [[5, 6], [7, 8]]]`\n",
    "\n",
    "\n",
    "- **nD Tensor:** Higher-dimensional arrays for more complex data representations.\n",
    "\n",
    "#### Why are Tensors Important?\n",
    "\n",
    "1. **Efficient Representation:**  \n",
    " Tensors allow us to represent and manipulate data of various shapes and dimensions in an efficient and structured way.\n",
    "\n",
    "2. **Flexibility:**  \n",
    " Tensors can handle data like images, audio signals, or videos, which often require more than two dimensions.\n",
    "\n",
    "3. **Foundation for Deep Learning:**  \n",
    " Operations like matrix multiplications, convolutions, and gradient calculations in neural networks are performed on tensors.\n",
    "\n",
    "#### Analogy\n",
    "\n",
    "Think of a tensor as a **generalized container** for data:\n",
    "- A **0D tensor** is like a single number.\n",
    "- A **1D tensor** is like a list of numbers (e.g., a shopping list).\n",
    "- A **2D tensor** is like a spreadsheet.\n",
    "- A **3D tensor** is like a stack of spreadsheets.\n",
    "\n",
    "Tensors make it easy to store and process data for machine learning models.\n",
    "\n"
   ]
  },
  {
   "cell_type": "code",
   "execution_count": 17,
   "metadata": {},
   "outputs": [
    {
     "name": "stdout",
     "output_type": "stream",
     "text": [
      "torch.Size([11, 11])\n"
     ]
    },
    {
     "data": {
      "text/plain": [
       "tensor([[0, 0, 1, 0, 0, 0, 0, 0, 0, 0, 0],\n",
       "        [1, 0, 0, 0, 0, 0, 0, 0, 0, 0, 0],\n",
       "        [0, 0, 0, 0, 0, 0, 0, 1, 0, 0, 0],\n",
       "        [0, 0, 0, 0, 0, 0, 0, 0, 1, 0, 0],\n",
       "        [0, 0, 0, 0, 0, 0, 0, 0, 0, 1, 0],\n",
       "        [0, 0, 0, 0, 0, 0, 1, 0, 0, 0, 0],\n",
       "        [1, 0, 0, 0, 0, 0, 0, 0, 0, 0, 0],\n",
       "        [0, 0, 0, 0, 1, 0, 0, 0, 0, 0, 0],\n",
       "        [0, 0, 0, 1, 0, 0, 0, 0, 0, 0, 0],\n",
       "        [0, 0, 0, 0, 0, 1, 0, 0, 0, 0, 0],\n",
       "        [0, 1, 0, 0, 0, 0, 0, 0, 0, 0, 0]])"
      ]
     },
     "execution_count": 17,
     "metadata": {},
     "output_type": "execute_result"
    }
   ],
   "source": [
    "import torch\n",
    "import torch.nn.functional as F\n",
    "\n",
    "# idx =[1, 0, 6, 7, 8, 5, 0, 3, 2, 4]\n",
    "idx = torch.tensor(idx)\n",
    "one_hot_enconding = F.one_hot(idx, num_classes=len(idx))\n",
    "print(one_hot_enconding.shape)\n",
    "one_hot_enconding"
   ]
  },
  {
   "cell_type": "markdown",
   "metadata": {},
   "source": [
    "----\n",
    "\n",
    "#### Explaning the output\n",
    "\n",
    "\n",
    "Tensor:\n",
    "[\n",
    "  [0, 1, 0, 0, 0, 0, 0, 0, 0, 0],  # Represents index 1  \n",
    "  [1, 0, 0, 0, 0, 0, 0, 0, 0, 0],  # Represents index 0  \n",
    "  [0, 0, 0, 0, 0, 0, 1, 0, 0, 0],  # Represents index 6  \n",
    "  [0, 0, 0, 0, 0, 0, 0, 1, 0, 0],  # Represents index 7  \n",
    "  [0, 0, 0, 0, 0, 0, 0, 0, 1, 0],  # Represents index 8  \n",
    "  [0, 0, 0, 0, 0, 1, 0, 0, 0, 0],  # Represents index 5  \n",
    "  [1, 0, 0, 0, 0, 0, 0, 0, 0, 0],  # Represents index 0  \n",
    "  [0, 0, 0, 1, 0, 0, 0, 0, 0, 0],  # Represents index 3  \n",
    "  [0, 0, 1, 0, 0, 0, 0, 0, 0, 0],  # Represents index 2  \n",
    "  [0, 0, 0, 0, 1, 0, 0, 0, 0, 0]   # Represents index 4  \n",
    "]\n",
    "\n",
    "----\n",
    "\n",
    "From the simple example, we see that character-level tokenization ignores the structure of the text, treating it as a sequence of characters. While it helps handle misspellings and rare words, it requires significant resources since linguistic structures like words need to be learned from scratch.\n",
    "\n",
    "For this reason, character tokenization is rarely used. Instead, approaches like word tokenization preserve the structure of the text more efficiently."
   ]
  },
  {
   "cell_type": "markdown",
   "metadata": {},
   "source": [
    "### Word Tokenization\n",
    "\n",
    "Unlike character-level tokenization, which treats text as a sequence of characters, word tokenization preserves the natural linguistic structure, making it more intuitive for analyzing and processing textual data.\n",
    "\n",
    "This method simplifies tasks like sentiment analysis, topic modeling, and text classification by focusing on meaningful units of language. While straightforward, word tokenization comes with challenges such as handling contractions, punctuation, and language-specific nuances. In this chapter, we will explore the principles, methods, and practical applications of word tokenization in NLP workflows.\n",
    "\n",
    "A straightforward class of word tokenizers relies on whitespace to split the text into tokens. This method of tokenization can be easily implemented using the `split()` function."
   ]
  },
  {
   "cell_type": "code",
   "execution_count": 18,
   "metadata": {},
   "outputs": [
    {
     "name": "stdout",
     "output_type": "stream",
     "text": [
      "['I', 'love', 'NLP!']\n"
     ]
    }
   ],
   "source": [
    "tokenized_text = input_text.split()\n",
    "print(tokenized_text)"
   ]
  },
  {
   "cell_type": "markdown",
   "metadata": {},
   "source": [
    "From here, we can follow the same steps presented earlier and map each word to a unique ID.\n",
    "\n",
    "A major limitation of this tokenization scheme is that it does not handle punctuation properly, treating terms like NLP as a single token. Additionally, variations such as declensions, conjugations, and misspellings can significantly expand the vocabulary, easily reaching millions of unique tokens."
   ]
  },
  {
   "cell_type": "markdown",
   "metadata": {},
   "source": [
    "### Subword Tokenization\n",
    "\n",
    "Subword tokenization is a technique that splits text into units smaller than whole words but larger than individual characters. The core idea is to strike a balance between character-level and word-level tokenization by breaking words into meaningful subparts or subwords. This approach helps address the limitations of traditional word and character tokenization, making it particularly effective in modern Natural Language Processing (NLP) models.\n",
    "\n",
    "### Principles of Subword Tokenization\n",
    "\n",
    "#### Handling Rare Words:\n",
    "- Instead of treating rare or unknown words as separate tokens, subword tokenization breaks them into smaller, more common subunits.\n",
    "- **For example:**\n",
    "  - Rare word: `\"unhappiness\"`\n",
    "  - Subwords: `[\"un\", \"happiness\"]`\n",
    "\n",
    "#### Combining Efficiency and Flexibility:\n",
    "- **Common words** are kept intact:  \n",
    "  `\"cat\"` → `[\"cat\"]`\n",
    "- **Uncommon or complex words** are split into smaller units:  \n",
    "  `\"internationalization\"` → `[\"inter\", \"national\", \"ization\"]`\n",
    "- This reduces the vocabulary size while still capturing meaningful linguistic information.\n",
    "\n",
    "#### Dealing with Misspellings and Variants:\n",
    "- Words with spelling errors or slight variations can share similar subword components, making models more robust to noise.\n",
    "- **Example:**  \n",
    "  `\"color\"` and `\"colour\"` may share subunits like `[\"col\", \"or\"]`.\n",
    "\n",
    "#### Vocabulary Efficiency:\n",
    "- Subword tokenization significantly reduces the vocabulary size compared to word-level tokenization, as the model doesn’t need to memorize every single word in the language.\n",
    "\n",
    "\n",
    "**Note:** There are several subword tokenization algorithms that are commoly used in NLP, but let's start with `WordPiece`, wich is used by DistilBERT tokenizers."
   ]
  },
  {
   "cell_type": "code",
   "execution_count": 19,
   "metadata": {},
   "outputs": [],
   "source": [
    "from transformers import AutoTokenizer\n",
    "\n",
    "model_ckpt = 'distilbert-base-uncased' #the \"uncased\" version means that all letters will be treated as lowercase, ignoring case sensitivity.\n",
    "tokenizer = AutoTokenizer.from_pretrained(model_ckpt) #Loads the tokenizer associated with the DistilBERT model."
   ]
  },
  {
   "cell_type": "markdown",
   "metadata": {},
   "source": [
    "The `AutoTokenizer` class is part of a broader family of **auto** classes designed to automatically retrieve a model's configuration, pretrained weights, or vocabulary based on the checkpoint name. This feature allows for seamless switching between models. However, if needed, you can also manually load a specific tokenizer class."
   ]
  },
  {
   "cell_type": "code",
   "execution_count": 20,
   "metadata": {},
   "outputs": [
    {
     "name": "stdout",
     "output_type": "stream",
     "text": [
      "{'input_ids': [101, 1045, 2293, 17953, 2361, 999, 102], 'attention_mask': [1, 1, 1, 1, 1, 1, 1]}\n"
     ]
    }
   ],
   "source": [
    "encoded_text = tokenizer(input_text)\n",
    "print(encoded_text)"
   ]
  },
  {
   "cell_type": "markdown",
   "metadata": {},
   "source": [
    "### Example for a Hypothetical Text\n",
    "\n",
    "For the text `\"I love NLP!\"` (based on DistilBERT's vocabulary), the tokenized output is:\n",
    "\n",
    "{'input_ids': [101, 1045, 2293, 17953, 2361, 999, 102], 'attention_mask': [1, 1, 1, 1, 1, 1, 1]}\n",
    "\n",
    "\n",
    "#### Breakdown of `input_ids`:\n",
    "- **101**: Special token `[CLS]`, added at the beginning of the text.\n",
    "- **1045**: Token for `\"I\"`.\n",
    "- **2293**: Token for `\"love\"`.\n",
    "- **17953**: Token for `\"NLP\"`.\n",
    "- **2361**: Token for `\"!\"`.\n",
    "- **999**: Token representing an unknown word or character (likely unrecognized punctuation or symbol).\n",
    "- **102**: Special token `[SEP]`, added at the end of the text.\n",
    "\n",
    "---\n",
    "\n",
    "### `attention_mask`\n",
    "\n",
    "The `attention_mask` indicates which tokens are relevant and should be processed by the model:\n",
    "\n",
    "- **1**: Indicates a relevant token (part of the actual input text).\n",
    "- **0**: Indicates an ignored token (e.g., padding).\n",
    "\n",
    "In this case, all mask values are `1` because the text does not require padding.\n"
   ]
  },
  {
   "cell_type": "code",
   "execution_count": 21,
   "metadata": {},
   "outputs": [
    {
     "name": "stdout",
     "output_type": "stream",
     "text": [
      "['[CLS]', 'i', 'love', 'nl', '##p', '!', '[SEP]']\n"
     ]
    }
   ],
   "source": [
    "tokens = tokenizer.convert_ids_to_tokens(encoded_text.input_ids)\n",
    "print(tokens)"
   ]
  },
  {
   "cell_type": "markdown",
   "metadata": {},
   "source": [
    "We can notice three key points here. First, special tokens like `[CLS]` and `[SEP]` have been added to the beginning and end of the sequence. These tokens vary across models, but their primary purpose is to mark the start and end of a sequence. Second, the tokens have been converted to lowercase, which is a characteristic of this specific checkpoint.\n",
    "\n",
    "Lastly, we can see that **NLP** has been split into two tokens, which makes sense since it's not a common word. The prefix `##` in `##p` indicates that the preceding string has no whitespace. Any token with this prefix should be merged with the previous token when converting the tokens back into a string.\n",
    "\n",
    "The **AutoTokenizer** class includes a `convert_tokens_to_string()` method specifically for this purpose. Let’s apply it to our tokens."
   ]
  },
  {
   "cell_type": "code",
   "execution_count": 22,
   "metadata": {},
   "outputs": [
    {
     "name": "stdout",
     "output_type": "stream",
     "text": [
      "[CLS] i love nlp! [SEP]\n"
     ]
    }
   ],
   "source": [
    "print(tokenizer.convert_tokens_to_string(tokens))"
   ]
  },
  {
   "cell_type": "markdown",
   "metadata": {},
   "source": [
    "Now that we have learned more about tokenization, we need to return to the initial dataset and carry out the tokenization."
   ]
  },
  {
   "cell_type": "markdown",
   "metadata": {},
   "source": [
    "#### Tokenizing the initial dataset"
   ]
  },
  {
   "cell_type": "code",
   "execution_count": 23,
   "metadata": {},
   "outputs": [],
   "source": [
    "def __tokenize__(batch):\n",
    "    return tokenizer(batch['text'], padding=True, truncation=True)"
   ]
  },
  {
   "cell_type": "markdown",
   "metadata": {},
   "source": [
    "This function applies the tokenizer to a batch of examples. The `padding=True` parameter ensures that the examples are padded with zeros to match the length of the longest example in the batch, while `truncation=True` limits the examples to the maximum context size supported by the model. To demonstrate how `__tokenize__()` works, let's process a batch containing two examples from the training set."
   ]
  },
  {
   "cell_type": "code",
   "execution_count": 24,
   "metadata": {},
   "outputs": [
    {
     "data": {
      "text/html": [
       "<div>\n",
       "<style scoped>\n",
       "    .dataframe tbody tr th:only-of-type {\n",
       "        vertical-align: middle;\n",
       "    }\n",
       "\n",
       "    .dataframe tbody tr th {\n",
       "        vertical-align: top;\n",
       "    }\n",
       "\n",
       "    .dataframe thead th {\n",
       "        text-align: right;\n",
       "    }\n",
       "</style>\n",
       "<table border=\"1\" class=\"dataframe\">\n",
       "  <thead>\n",
       "    <tr style=\"text-align: right;\">\n",
       "      <th></th>\n",
       "      <th>text</th>\n",
       "      <th>label</th>\n",
       "    </tr>\n",
       "  </thead>\n",
       "  <tbody>\n",
       "    <tr>\n",
       "      <th>0</th>\n",
       "      <td>i didnt feel humiliated</td>\n",
       "      <td>0</td>\n",
       "    </tr>\n",
       "    <tr>\n",
       "      <th>1</th>\n",
       "      <td>i can go from feeling so hopeless to so damned...</td>\n",
       "      <td>0</td>\n",
       "    </tr>\n",
       "  </tbody>\n",
       "</table>\n",
       "</div>"
      ],
      "text/plain": [
       "                                                text  label\n",
       "0                            i didnt feel humiliated      0\n",
       "1  i can go from feeling so hopeless to so damned...      0"
      ]
     },
     "execution_count": 24,
     "metadata": {},
     "output_type": "execute_result"
    }
   ],
   "source": [
    "emotions['train'][:2]"
   ]
  },
  {
   "cell_type": "code",
   "execution_count": 25,
   "metadata": {},
   "outputs": [
    {
     "name": "stdout",
     "output_type": "stream",
     "text": [
      "{'input_ids': [[101, 1045, 2134, 2102, 2514, 26608, 102, 0, 0, 0, 0, 0, 0, 0, 0, 0, 0, 0, 0, 0, 0, 0, 0], [101, 1045, 2064, 2175, 2013, 3110, 2061, 20625, 2000, 2061, 9636, 17772, 2074, 2013, 2108, 2105, 2619, 2040, 14977, 1998, 2003, 8300, 102]], 'attention_mask': [[1, 1, 1, 1, 1, 1, 1, 0, 0, 0, 0, 0, 0, 0, 0, 0, 0, 0, 0, 0, 0, 0, 0], [1, 1, 1, 1, 1, 1, 1, 1, 1, 1, 1, 1, 1, 1, 1, 1, 1, 1, 1, 1, 1, 1, 1]]}\n"
     ]
    }
   ],
   "source": [
    "print(__tokenize__({'text': emotions['train']['text'][:2].tolist()}))"
   ]
  },
  {
   "cell_type": "markdown",
   "metadata": {},
   "source": [
    "Here, we observe the effect of padding: the first element of `input_ids` is shorter than the second, so zeros were added to the first element to ensure both have the same length. These zeros correspond to the **[PAD]** token in the vocabulary. Additionally, the set of special tokens includes the **[CLS]** and **[SEP]** tokens we encountered earlier."
   ]
  },
  {
   "cell_type": "markdown",
   "metadata": {},
   "source": [
    "**Note:** In addition to returning the encoded tweets as `input_ids`, the tokenizer also provides a list of `attention_mask` arrays. These are essential because we want the model to focus only on the relevant parts of the input and ignore the padding tokens. The attention mask ensures the model does not consider the padded sections during processing."
   ]
  },
  {
   "cell_type": "code",
   "execution_count": null,
   "metadata": {},
   "outputs": [],
   "source": []
  },
  {
   "cell_type": "code",
   "execution_count": null,
   "metadata": {},
   "outputs": [],
   "source": []
  },
  {
   "cell_type": "markdown",
   "metadata": {},
   "source": [
    "DistilBERT, like other pretrained language models, is originally trained to predict masked words in a text sequence, a task known as **Masked Language Modeling (MLM)**. This process helps the model learn the context and structure of the language but is not directly applicable to text classification. To address this, the model needs to be modified by adding specific layers to transform the learned representations into label predictions. The classification task does not involve predicting masked words but rather mapping the entire text to specific categories, which explains the need for adjustments.\n"
   ]
  },
  {
   "cell_type": "code",
   "execution_count": null,
   "metadata": {},
   "outputs": [],
   "source": []
  },
  {
   "cell_type": "markdown",
   "metadata": {},
   "source": [
    "Colocar embaixo da arquitetura da rede! (sem gradiente)\n",
    "\n",
    "The architecture for sequence classification in an encoder-based transformer consists of the model's pretrained body integrated with a custom classification layer."
   ]
  },
  {
   "cell_type": "markdown",
   "metadata": {},
   "source": [
    "Explicando a imagem\n",
    "First, the text is tokenized and represented as one-hot vectors, known as token encodings. The dimension of these encodings is determined by the size of the tokenizer's vocabulary, which typically ranges from 20,000 to 200,000 unique tokens. Next, these encodings are transformed into token embeddings, which are vectors residing in a lower-dimensional space. These embeddings are then processed through the encoder block layers, resulting in hidden states for each input token. During pretraining for language modeling, each hidden state is passed to a layer that predicts the masked input tokens. For a classification task, this language modeling layer is replaced with a classification layer.\n"
   ]
  },
  {
   "cell_type": "markdown",
   "metadata": {},
   "source": [
    "#### Using Transformers for Feature-Based Learning"
   ]
  },
  {
   "cell_type": "markdown",
   "metadata": {},
   "source": [
    "Using a transformer as a feature extractor is a straightforward and efficient process. As illustrated in the figure below, the pretrained body of the model is frozen during training, and the hidden states generated by the model are used as inputs for the classifier. This approach has the advantage of enabling the fast training of smaller or simpler models. The classifier can be a neural layer or even a method that does not rely on gradients, such as a random forest. Moreover, this technique is particularly useful in scenarios where GPUs are unavailable, as the hidden states can be precomputed just once, significantly reducing the computational cost of training.\n",
    "(Figura com o gradiente)\n",
    "\n",
    "Figure 2-5. In the feature-based approach, the DistilBERT model remains frozen and serves exclusively as a feature provider for the classifier."
   ]
  },
  {
   "cell_type": "markdown",
   "metadata": {},
   "source": [
    "#### Pretrained Models\n",
    "\n",
    "Here, we will use a convenient auto class from **Transformers** called `AutoModel`, which is similar to the `AutoTokenizer` class. The `AutoModel` class has a `from_pretrained()` method to load the weights of a pretrained model. Now, let's use this method to load the DistilBERT checkpoint."
   ]
  },
  {
   "cell_type": "code",
   "execution_count": 26,
   "metadata": {},
   "outputs": [],
   "source": [
    "from transformers import AutoModel\n",
    "\n",
    "model_ = 'distilbert-base-uncased' #Specifies the pretrained model to use, in this case, DistilBERT, with a tokenizer that ignores case (uncased)\n",
    "device = torch.device('cuda' if torch.cuda.is_available() else 'cpu') #Determines the device to run the model on. If a CUDA-compatible GPU is available, it will use 'cuda'; otherwise, it defaults to 'cpu'.\n",
    "model = AutoModel.from_pretrained(model_).to(device) #Loads the pretrained model defined in model_ using AutoModel and moves it to the appropriate device (GPU or CPU).\n"
   ]
  },
  {
   "cell_type": "markdown",
   "metadata": {},
   "source": [
    "To start, let's retrieve the last hidden states for a single string. First, we need to encode the string and convert the tokens into PyTorch tensors. This can be achieved by passing the argument `return_tensors='pt'` to the tokenizer, as shown below."
   ]
  },
  {
   "cell_type": "code",
   "execution_count": 31,
   "metadata": {},
   "outputs": [
    {
     "name": "stdout",
     "output_type": "stream",
     "text": [
      "Input tensor shape is: torch.Size([1, 6])\n"
     ]
    }
   ],
   "source": [
    "text = 'I love NLP'\n",
    "inputs = tokenizer(text, return_tensors='pt')\n",
    "print(f\"Input tensor shape is: {inputs['input_ids'].size()}\")"
   ]
  },
  {
   "cell_type": "markdown",
   "metadata": {},
   "source": [
    "Above, we can observe the result tensor with the shape [`batch_size`, `n_tokens`]. Now that the encodings have been converted into a tensor, the final step is to move them to the same device as the model and pass the inputs as shown below:"
   ]
  },
  {
   "cell_type": "code",
   "execution_count": 32,
   "metadata": {},
   "outputs": [
    {
     "name": "stdout",
     "output_type": "stream",
     "text": [
      "BaseModelOutput(last_hidden_state=tensor([[[-0.0812, -0.0856,  0.0483,  ..., -0.0387,  0.1873,  0.3199],\n",
      "         [ 0.3841,  0.0076,  0.1001,  ...,  0.0713,  0.4632,  0.5260],\n",
      "         [ 1.0047,  0.2397,  0.7815,  ..., -0.1916,  0.2772,  0.1692],\n",
      "         [ 0.2645, -0.6498,  0.3914,  ...,  0.1146,  0.3427,  0.1169],\n",
      "         [-0.1801, -0.5154,  0.0214,  ...,  0.3330, -0.1899, -0.1124],\n",
      "         [ 0.8874,  0.1200, -0.3884,  ...,  0.1955, -0.5910, -0.1868]]],\n",
      "       device='cuda:0'), hidden_states=None, attentions=None)\n"
     ]
    }
   ],
   "source": [
    "inputs = {k: v.to(device) for k, v in inputs.items()}\n",
    "with torch.no_grad():\n",
    "    outputs = model(**inputs)\n",
    "print(outputs)"
   ]
  },
  {
   "cell_type": "markdown",
   "metadata": {},
   "source": [
    "Here, we load the pre-trained model using the `torch.no_grad()` argument to ensure that gradient calculations are disabled, as the goal is solely to perform inference, not to adjust the model's weights. This approach allows the model to efficiently process the input data using its already optimized weights to generate precise representations without modifying its original parameters."
   ]
  },
  {
   "cell_type": "code",
   "execution_count": 36,
   "metadata": {},
   "outputs": [
    {
     "name": "stdout",
     "output_type": "stream",
     "text": [
      "torch.Size([1, 6, 768])\n"
     ]
    }
   ],
   "source": [
    "print(outputs.last_hidden_state.size())"
   ]
  },
  {
   "cell_type": "markdown",
   "metadata": {},
   "source": [
    "The hidden state tensor has the shape [`batch_size`, `n_tokens`, `hidden_dim`], meaning that a 768-dimensional vector is returned for each of the 6 input tokens. For classification tasks, it is a common practice to use only the hidden state corresponding to the [CLS] token as the input feature. Since this token is located at the beginning of every sequence, we can extract it easily by indexing into `outputs.last_hidden_state` as follows:"
   ]
  },
  {
   "cell_type": "code",
   "execution_count": 37,
   "metadata": {},
   "outputs": [
    {
     "name": "stdout",
     "output_type": "stream",
     "text": [
      "torch.Size([1, 768])\n"
     ]
    }
   ],
   "source": [
    "print(outputs.last_hidden_state[:,0].size())"
   ]
  },
  {
   "cell_type": "markdown",
   "metadata": {},
   "source": [
    "Now that we’ve learned how to retrieve the last hidden state for a single string, we can apply the same process to the entire dataset. To do this, we’ll create a new column called `hidden_state` to store all the resulting vectors. Just as we used the tokenizer previously, we’ll leverage the `map()` method of `DatasetDict` to extract the hidden states efficiently in a single operation. The first step is to wrap the previous steps into a processing function."
   ]
  },
  {
   "cell_type": "code",
   "execution_count": 39,
   "metadata": {},
   "outputs": [],
   "source": [
    "def __extraction_hidden_states__(batch):\n",
    "    inputs = {k: v.to(device) for k, v in batch.items()\n",
    "              if k in tokenizer.model_input_names}\n",
    "    with torch.no_grad():\n",
    "        last_hidden_state = model(**inputs).last_hidden_state\n",
    "    return {'hidden_state': last_hidden_state[:, 0].cpu().numpy()}"
   ]
  }
 ],
 "metadata": {
  "colab": {
   "authorship_tag": "ABX9TyNXQIpN7p8Lk6LxX1h8K1WK",
   "include_colab_link": true,
   "mount_file_id": "1S_o_ubLAM_Lf_8_P4qCTkMWIUmyz6A5N",
   "provenance": []
  },
  "kernelspec": {
   "display_name": "base",
   "language": "python",
   "name": "python3"
  },
  "language_info": {
   "codemirror_mode": {
    "name": "ipython",
    "version": 3
   },
   "file_extension": ".py",
   "mimetype": "text/x-python",
   "name": "python",
   "nbconvert_exporter": "python",
   "pygments_lexer": "ipython3",
   "version": "3.11.7"
  }
 },
 "nbformat": 4,
 "nbformat_minor": 1
}
