{
  "cells": [
    {
      "cell_type": "markdown",
      "metadata": {},
      "source": [
        "# DistilBERT"
      ]
    },
    {
      "cell_type": "markdown",
      "metadata": {},
      "source": [
        "In this project, we will assist students who are starting to learn text analysis. The main objective is to build language applications using Hugging Face and natural language processing with transformersn this project, we will assist students who are starting to learn text analysis. The main objective is to build language applications using Hugging Face and natural language processing with transformers."
      ]
    },
    {
      "cell_type": "markdown",
      "metadata": {},
      "source": [
        "## Statistical Analyses on Texts\n",
        "\n",
        "The text analyses presented here are based on datasets available on the Hugging Face Hub (https://oreil.ly/959YT).\n",
        "\n",
        "For the analyses we will develop here, we use the dataset available at https://huggingface.co/datasets/vamossyd/finance_emotions."
      ]
    },
    {
      "cell_type": "markdown",
      "metadata": {},
      "source": [
        "#### Importing libraries"
      ]
    },
    {
      "cell_type": "code",
      "execution_count": 21,
      "metadata": {},
      "outputs": [],
      "source": [
        "import pandas as pd\n",
        "import seaborn as sns\n",
        "import matplotlib.pyplot as plt\n",
        "\n",
        "\n",
        "from datasets import load_dataset\n",
        "from huggingface_hub import list_datasets\n"
      ]
    },
    {
      "cell_type": "markdown",
      "metadata": {},
      "source": [
        "#### Importing the dataset"
      ]
    },
    {
      "cell_type": "code",
      "execution_count": 22,
      "metadata": {},
      "outputs": [
        {
          "data": {
            "text/plain": [
              "DatasetDict({\n",
              "    train: Dataset({\n",
              "        features: ['text', 'label'],\n",
              "        num_rows: 16000\n",
              "    })\n",
              "    validation: Dataset({\n",
              "        features: ['text', 'label'],\n",
              "        num_rows: 2000\n",
              "    })\n",
              "    test: Dataset({\n",
              "        features: ['text', 'label'],\n",
              "        num_rows: 2000\n",
              "    })\n",
              "})"
            ]
          },
          "execution_count": 22,
          "metadata": {},
          "output_type": "execute_result"
        }
      ],
      "source": [
        "emotions = load_dataset('emotion')\n",
        "emotions"
      ]
    },
    {
      "cell_type": "markdown",
      "metadata": {},
      "source": [
        "Note that, the dataset is a dictionary partitioned between `train`, `test` and `validation`. \n",
        "\n",
        "We can use the usual dictionary syntax to acess an individual split."
      ]
    },
    {
      "cell_type": "code",
      "execution_count": 23,
      "metadata": {},
      "outputs": [
        {
          "name": "stdout",
          "output_type": "stream",
          "text": [
            "The length of the dataset train is 16000\n",
            "The first information is {'text': 'i didnt feel humiliated', 'label': 0}\n",
            "The column names are ['text', 'label']\n",
            "Theattribute of dataset object are {'text': Value(dtype='string', id=None), 'label': ClassLabel(names=['sadness', 'joy', 'love', 'anger', 'fear', 'surprise'], id=None)}\n"
          ]
        }
      ],
      "source": [
        "X_train = emotions['train']\n",
        "print(f'The length of the dataset train is {len(X_train)}')\n",
        "\n",
        "# If we want to access the first information, we can do:\n",
        "print(f'The first information is {X_train[0]}')\n",
        "\n",
        "# If we want to see the column names, we can do:\n",
        "print(f'The column names are {X_train.column_names}')\n",
        "\n",
        "# If we want to see the attribute of dataset object, we can do:\n",
        "print(f'Theattribute of dataset object are {X_train.features}')\n"
      ]
    },
    {
      "cell_type": "markdown",
      "metadata": {},
      "source": [
        "To develop our analyses, we will convert the dataset into a DataFrame.\n"
      ]
    },
    {
      "cell_type": "code",
      "execution_count": 24,
      "metadata": {},
      "outputs": [
        {
          "data": {
            "text/html": [
              "<div>\n",
              "<style scoped>\n",
              "    .dataframe tbody tr th:only-of-type {\n",
              "        vertical-align: middle;\n",
              "    }\n",
              "\n",
              "    .dataframe tbody tr th {\n",
              "        vertical-align: top;\n",
              "    }\n",
              "\n",
              "    .dataframe thead th {\n",
              "        text-align: right;\n",
              "    }\n",
              "</style>\n",
              "<table border=\"1\" class=\"dataframe\">\n",
              "  <thead>\n",
              "    <tr style=\"text-align: right;\">\n",
              "      <th></th>\n",
              "      <th>text</th>\n",
              "      <th>label</th>\n",
              "    </tr>\n",
              "  </thead>\n",
              "  <tbody>\n",
              "    <tr>\n",
              "      <th>0</th>\n",
              "      <td>i didnt feel humiliated</td>\n",
              "      <td>0</td>\n",
              "    </tr>\n",
              "    <tr>\n",
              "      <th>1</th>\n",
              "      <td>i can go from feeling so hopeless to so damned...</td>\n",
              "      <td>0</td>\n",
              "    </tr>\n",
              "    <tr>\n",
              "      <th>2</th>\n",
              "      <td>im grabbing a minute to post i feel greedy wrong</td>\n",
              "      <td>3</td>\n",
              "    </tr>\n",
              "    <tr>\n",
              "      <th>3</th>\n",
              "      <td>i am ever feeling nostalgic about the fireplac...</td>\n",
              "      <td>2</td>\n",
              "    </tr>\n",
              "    <tr>\n",
              "      <th>4</th>\n",
              "      <td>i am feeling grouchy</td>\n",
              "      <td>3</td>\n",
              "    </tr>\n",
              "  </tbody>\n",
              "</table>\n",
              "</div>"
            ],
            "text/plain": [
              "                                                text  label\n",
              "0                            i didnt feel humiliated      0\n",
              "1  i can go from feeling so hopeless to so damned...      0\n",
              "2   im grabbing a minute to post i feel greedy wrong      3\n",
              "3  i am ever feeling nostalgic about the fireplac...      2\n",
              "4                               i am feeling grouchy      3"
            ]
          },
          "execution_count": 24,
          "metadata": {},
          "output_type": "execute_result"
        }
      ],
      "source": [
        "emotions.set_format(type='pandas')\n",
        "df_train = emotions['train'][:]\n",
        "df_train.head()"
      ]
    },
    {
      "cell_type": "markdown",
      "metadata": {},
      "source": [
        "The column headers have been preserved, and the first few rows match our previous view of the data. However, the labels are represented as integers, so let's use the `int2str()` method of the label feature to create a new column in our DataFrame with the corresponding label names."
      ]
    },
    {
      "cell_type": "code",
      "execution_count": 25,
      "metadata": {},
      "outputs": [
        {
          "data": {
            "text/html": [
              "<div>\n",
              "<style scoped>\n",
              "    .dataframe tbody tr th:only-of-type {\n",
              "        vertical-align: middle;\n",
              "    }\n",
              "\n",
              "    .dataframe tbody tr th {\n",
              "        vertical-align: top;\n",
              "    }\n",
              "\n",
              "    .dataframe thead th {\n",
              "        text-align: right;\n",
              "    }\n",
              "</style>\n",
              "<table border=\"1\" class=\"dataframe\">\n",
              "  <thead>\n",
              "    <tr style=\"text-align: right;\">\n",
              "      <th></th>\n",
              "      <th>text</th>\n",
              "      <th>label</th>\n",
              "      <th>label_name</th>\n",
              "    </tr>\n",
              "  </thead>\n",
              "  <tbody>\n",
              "    <tr>\n",
              "      <th>0</th>\n",
              "      <td>i didnt feel humiliated</td>\n",
              "      <td>0</td>\n",
              "      <td>sadness</td>\n",
              "    </tr>\n",
              "    <tr>\n",
              "      <th>1</th>\n",
              "      <td>i can go from feeling so hopeless to so damned...</td>\n",
              "      <td>0</td>\n",
              "      <td>sadness</td>\n",
              "    </tr>\n",
              "    <tr>\n",
              "      <th>2</th>\n",
              "      <td>im grabbing a minute to post i feel greedy wrong</td>\n",
              "      <td>3</td>\n",
              "      <td>anger</td>\n",
              "    </tr>\n",
              "    <tr>\n",
              "      <th>3</th>\n",
              "      <td>i am ever feeling nostalgic about the fireplac...</td>\n",
              "      <td>2</td>\n",
              "      <td>love</td>\n",
              "    </tr>\n",
              "    <tr>\n",
              "      <th>4</th>\n",
              "      <td>i am feeling grouchy</td>\n",
              "      <td>3</td>\n",
              "      <td>anger</td>\n",
              "    </tr>\n",
              "  </tbody>\n",
              "</table>\n",
              "</div>"
            ],
            "text/plain": [
              "                                                text  label label_name\n",
              "0                            i didnt feel humiliated      0    sadness\n",
              "1  i can go from feeling so hopeless to so damned...      0    sadness\n",
              "2   im grabbing a minute to post i feel greedy wrong      3      anger\n",
              "3  i am ever feeling nostalgic about the fireplac...      2       love\n",
              "4                               i am feeling grouchy      3      anger"
            ]
          },
          "execution_count": 25,
          "metadata": {},
          "output_type": "execute_result"
        }
      ],
      "source": [
        "def input_label(row):\n",
        "    return emotions['train'].features['label'].int2str(row)\n",
        "\n",
        "# Applying the function\n",
        "df_train['label_name'] = df_train['label'].apply(input_label)\n",
        "df_train.head()"
      ]
    },
    {
      "cell_type": "markdown",
      "metadata": {},
      "source": [
        "Let's check the class distribution"
      ]
    },
    {
      "cell_type": "code",
      "execution_count": 26,
      "metadata": {},
      "outputs": [
        {
          "data": {
            "image/png": "[encoded data removed]",
            "text/plain": [
              "<Figure size 1000x600 with 1 Axes>"
            ]
          },
          "metadata": {},
          "output_type": "display_data"
        }
      ],
      "source": [
        "# Count the frequency of values in 'label_name'\n",
        "label_counts = df_train['label_name'].value_counts()\n",
        "\n",
        "# Create the bar chart\n",
        "plt.figure(figsize=(10, 6))\n",
        "sns.barplot(x=label_counts.index, y=label_counts.values, color='#40E0D0')\n",
        "# Customize the chart\n",
        "plt.title(\"Frequency Distribution of Label Names\", fontsize=16)\n",
        "plt.xlabel(\"Label Names\", fontsize=10)\n",
        "plt.ylabel(\"Frequency\", fontsize=10)\n",
        "plt.xticks(fontsize=9)\n",
        "plt.yticks(fontsize=9)\n",
        "\n",
        "# Show the chart\n",
        "plt.tight_layout()\n",
        "plt.show()\n"
      ]
    },
    {
      "cell_type": "markdown",
      "metadata": {},
      "source": [
        "Obviously, there are imbalanced classes: for example, **surprise**, **love**, **fear**, and **anger** are minority classes compared to **joy** and **sadness**.\n",
        "\n",
        "At the present moment, we are working with imbalanced classes. If necessary, we will adjust the classes.\n",
        "\n",
        "**Note**: For applications using DistilBERT, the maximum context size is $512$ tokens, wich amounts to a few paragraphs of text."
      ]
    },
    {
      "cell_type": "markdown",
      "metadata": {},
      "source": [
        "**Question:** Can we approximate tweet lengths for each emotion by analyzing the word distribution per tweet?"
      ]
    },
    {
      "cell_type": "code",
      "execution_count": 27,
      "metadata": {},
      "outputs": [
        {
          "data": {
            "image/png": "[encoded data removed]",
            "text/plain": [
              "<Figure size 1200x600 with 1 Axes>"
            ]
          },
          "metadata": {},
          "output_type": "display_data"
        }
      ],
      "source": [
        "df_train['words_tweet'] = df_train['text'].str.split().apply(len)\n",
        "\n",
        "sns.set_theme(style=\"white\")  \n",
        "\n",
        "# Create the improved boxplot\n",
        "plt.figure(figsize=(12, 6))\n",
        "sns.boxplot(\n",
        "    x='label_name', \n",
        "    y='words_tweet', \n",
        "    data=df_train, \n",
        "    color='#40E0D0',       \n",
        "    showfliers=False,       \n",
        "    width=0.6,             \n",
        "    linewidth=1.5       \n",
        ")\n",
        "\n",
        "# Customize the title and labels\n",
        "plt.title(\"Boxplot of Words per Tweet by Emotion\", fontsize=16, pad=15)  \n",
        "plt.xlabel(\"Emotions\", fontsize=12, labelpad=10)                         \n",
        "plt.ylabel(\"Number of Words\", fontsize=12, labelpad=10)                  \n",
        "plt.xticks(fontsize=10)                                                  \n",
        "plt.yticks(fontsize=10)                                                  \n",
        "plt.tight_layout()\n",
        "plt.show()\n"
      ]
    },
    {
      "cell_type": "markdown",
      "metadata": {},
      "source": [
        "Through the boxplot, we can see that for each emotion, the majority of tweets have around 15 words, and the other tweets are shorter than DistilBERT's maximum context size.\n",
        "Texts longer than the model's context size must be truncated, which can result in performance degradation if the truncated text contains critical information. However, in this case, it does not appear to be an issue.\n",
        "\n",
        "The next step is to transform the texts into tokens.\n",
        "\n",
        "\n",
        "\n",
        "\n",
        "\n",
        "\n",
        "\n"
      ]
    },
    {
      "cell_type": "markdown",
      "metadata": {},
      "source": [
        "### What is a Token?\n",
        "\n",
        "A **token** is a small piece of text that a computer can understand. When we give a sentence to a program, it breaks the sentence into smaller parts called tokens.\n",
        "\n",
        "#### Examples:\n",
        "1. **Full sentence:** \"I like cats.\"\n",
        "2. **Tokens (small parts):**\n",
        "   - As words: `[\"I\", \"like\", \"cats\"]`\n",
        "   - As smaller pieces: `[\"I\", \"li\", \"ke\", \"ca\", \"ts\"]`\n",
        "\n",
        "The computer uses these tokens to turn text into numbers, because computers work with numbers, not words.\n",
        "\n",
        "#### Why is this important?\n",
        "Imagine teaching a robot to understand text. It can’t read full sentences like humans do. But if we split the sentence into tokens, the robot can learn what each piece means and how they connect to each other.\n",
        "\n",
        "#### Simple Comparison:\n",
        "Tokens are like puzzle pieces. Each piece alone doesn’t tell much, but when you put them together, they form the full picture (or the meaning of the text).\n"
      ]
    },
    {
      "cell_type": "markdown",
      "metadata": {},
      "source": [
        "### Tokenization\n",
        "\n",
        "The simplest tokenization method is to treat each character as a token and feed them individually to the model. In Python, `str` objects work like arrays internally, making it quick and easy to implement character-level tokenization.\n",
        "\n",
        "Here is a simple example."
      ]
    },
    {
      "cell_type": "code",
      "execution_count": 28,
      "metadata": {},
      "outputs": [
        {
          "name": "stdout",
          "output_type": "stream",
          "text": [
            "I love NLP!\n",
            "['I', ' ', 'l', 'o', 'v', 'e', ' ', 'N', 'L', 'P', '!']\n"
          ]
        }
      ],
      "source": [
        "input_text = input('Insert a text:') #I love NLP.\n",
        "print(input_text)\n",
        "\n",
        "tokenized_text = list(input_text)\n",
        "print(tokenized_text)"
      ]
    },
    {
      "cell_type": "markdown",
      "metadata": {},
      "source": [
        "All models expect each character to be converted into an integer, a process sometimes called **numericalization**.\n",
        "\n",
        "We can perform **numericalization** as follows:"
      ]
    },
    {
      "cell_type": "code",
      "execution_count": 29,
      "metadata": {},
      "outputs": [
        {
          "name": "stdout",
          "output_type": "stream",
          "text": [
            "{' ': 0, '!': 1, 'I': 2, 'L': 3, 'N': 4, 'P': 5, 'e': 6, 'l': 7, 'o': 8, 'v': 9}\n"
          ]
        }
      ],
      "source": [
        "unique_chars = sorted(set(tokenized_text))\n",
        "tokenized_idx = dict(zip(unique_chars, range(len(unique_chars))))\n",
        "print(tokenized_idx)"
      ]
    },
    {
      "cell_type": "markdown",
      "metadata": {},
      "source": [
        "Using **tokenized_idx** we can to transform the tokenized text to a list of integers. "
      ]
    },
    {
      "cell_type": "code",
      "execution_count": 30,
      "metadata": {},
      "outputs": [
        {
          "name": "stdout",
          "output_type": "stream",
          "text": [
            "[2, 0, 7, 8, 9, 6, 0, 4, 3, 5, 1]\n"
          ]
        }
      ],
      "source": [
        "idx = [tokenized_idx[token] for token in tokenized_text]\n",
        "print(idx)"
      ]
    },
    {
      "cell_type": "markdown",
      "metadata": {},
      "source": [
        "Note that each token is associated with a unique numerical value. The final step is to convert the **idx** into a $2D$ tensor of one-hot encoded vectors."
      ]
    },
    {
      "cell_type": "markdown",
      "metadata": {},
      "source": [
        "### What is One-Hot Encoding?\n",
        "\n",
        "A **one-hot encoded** representation is a way of converting categorical data (like words, characters, or labels) into a binary format that a machine learning model can process. It uses a vector where:\n",
        "\n",
        "- **Only one position is \"hot\" (1):** The position corresponding to the category is set to `1`.\n",
        "- **All other positions are \"cold\" (0):** All other positions are set to `0`.\n",
        "\n",
        "#### Example\n",
        "\n",
        "If you have three categories: `[\"cat\", \"dog\", \"fish\"]`, each one can be represented as a vector in a one-hot encoded format:\n",
        "\n",
        "- `cat` → `[1, 0, 0]`\n",
        "- `dog` → `[0, 1, 0]`\n",
        "- `fish` → `[0, 0, 1]`\n",
        "\n",
        "The index of `1` corresponds to the category's position in the list.\n",
        "\n",
        "#### Why is it Useful?\n",
        "\n",
        "1. **Machine learning models:**  \n",
        "   Models like neural networks work with numbers, not text, so one-hot encoding helps translate text into numerical input.\n",
        "\n",
        "2. **No order imposed:**  \n",
        "   One-hot encoding ensures that categories are treated as equally distinct, with no implied order or hierarchy.\n"
      ]
    },
    {
      "cell_type": "markdown",
      "metadata": {},
      "source": [
        "### What is a Tensor?\n",
        "\n",
        "A **tensor** is a mathematical object that is a generalization of scalars, vectors, and matrices to higher dimensions. It’s the fundamental building block in many machine learning and deep learning frameworks, such as TensorFlow and PyTorch.\n",
        "\n",
        "#### Examples of Tensors by Dimension\n",
        "\n",
        "- **0D Tensor (Scalar):** A single number.  \n",
        "  Example: `5` or `3.14`\n",
        "  \n",
        "- **1D Tensor (Vector):** A one-dimensional array of numbers.  \n",
        "  Example: `[1, 2, 3]`\n",
        "  \n",
        "- **2D Tensor (Matrix):** A two-dimensional array of numbers.  \n",
        "  Example:  `[[1, 2, 3], [4, 5, 6]]`\n",
        "\n",
        "- **3D Tensor:** A collection of matrices (like a cube of numbers).  \n",
        "  Example: `[[[1, 2], [3, 4]], [[5, 6], [7, 8]]]`\n",
        "\n",
        "\n",
        "- **nD Tensor:** Higher-dimensional arrays for more complex data representations.\n",
        "\n",
        "#### Why are Tensors Important?\n",
        "\n",
        "1. **Efficient Representation:**  \n",
        " Tensors allow us to represent and manipulate data of various shapes and dimensions in an efficient and structured way.\n",
        "\n",
        "2. **Flexibility:**  \n",
        " Tensors can handle data like images, audio signals, or videos, which often require more than two dimensions.\n",
        "\n",
        "3. **Foundation for Deep Learning:**  \n",
        " Operations like matrix multiplications, convolutions, and gradient calculations in neural networks are performed on tensors.\n",
        "\n",
        "#### Analogy\n",
        "\n",
        "Think of a tensor as a **generalized container** for data:\n",
        "- A **0D tensor** is like a single number.\n",
        "- A **1D tensor** is like a list of numbers (e.g., a shopping list).\n",
        "- A **2D tensor** is like a spreadsheet.\n",
        "- A **3D tensor** is like a stack of spreadsheets.\n",
        "\n",
        "Tensors make it easy to store and process data for machine learning models.\n",
        "\n"
      ]
    },
    {
      "cell_type": "code",
      "execution_count": 31,
      "metadata": {},
      "outputs": [
        {
          "name": "stdout",
          "output_type": "stream",
          "text": [
            "torch.Size([11, 11])\n"
          ]
        },
        {
          "data": {
            "text/plain": [
              "tensor([[0, 0, 1, 0, 0, 0, 0, 0, 0, 0, 0],\n",
              "        [1, 0, 0, 0, 0, 0, 0, 0, 0, 0, 0],\n",
              "        [0, 0, 0, 0, 0, 0, 0, 1, 0, 0, 0],\n",
              "        [0, 0, 0, 0, 0, 0, 0, 0, 1, 0, 0],\n",
              "        [0, 0, 0, 0, 0, 0, 0, 0, 0, 1, 0],\n",
              "        [0, 0, 0, 0, 0, 0, 1, 0, 0, 0, 0],\n",
              "        [1, 0, 0, 0, 0, 0, 0, 0, 0, 0, 0],\n",
              "        [0, 0, 0, 0, 1, 0, 0, 0, 0, 0, 0],\n",
              "        [0, 0, 0, 1, 0, 0, 0, 0, 0, 0, 0],\n",
              "        [0, 0, 0, 0, 0, 1, 0, 0, 0, 0, 0],\n",
              "        [0, 1, 0, 0, 0, 0, 0, 0, 0, 0, 0]])"
            ]
          },
          "execution_count": 31,
          "metadata": {},
          "output_type": "execute_result"
        }
      ],
      "source": [
        "import torch\n",
        "import torch.nn.functional as F\n",
        "\n",
        "# idx =[1, 0, 6, 7, 8, 5, 0, 3, 2, 4]\n",
        "idx = torch.tensor(idx)\n",
        "one_hot_enconding = F.one_hot(idx, num_classes=len(idx))\n",
        "print(one_hot_enconding.shape)\n",
        "one_hot_enconding"
      ]
    },
    {
      "cell_type": "markdown",
      "metadata": {},
      "source": [
        "----\n",
        "\n",
        "#### Explaning the output\n",
        "\n",
        "\n",
        "Tensor:\n",
        "[\n",
        "  [0, 1, 0, 0, 0, 0, 0, 0, 0, 0],  # Represents index 1  \n",
        "  [1, 0, 0, 0, 0, 0, 0, 0, 0, 0],  # Represents index 0  \n",
        "  [0, 0, 0, 0, 0, 0, 1, 0, 0, 0],  # Represents index 6  \n",
        "  [0, 0, 0, 0, 0, 0, 0, 1, 0, 0],  # Represents index 7  \n",
        "  [0, 0, 0, 0, 0, 0, 0, 0, 1, 0],  # Represents index 8  \n",
        "  [0, 0, 0, 0, 0, 1, 0, 0, 0, 0],  # Represents index 5  \n",
        "  [1, 0, 0, 0, 0, 0, 0, 0, 0, 0],  # Represents index 0  \n",
        "  [0, 0, 0, 1, 0, 0, 0, 0, 0, 0],  # Represents index 3  \n",
        "  [0, 0, 1, 0, 0, 0, 0, 0, 0, 0],  # Represents index 2  \n",
        "  [0, 0, 0, 0, 1, 0, 0, 0, 0, 0]   # Represents index 4  \n",
        "]\n",
        "\n",
        "----\n",
        "\n",
        "From the simple example, we see that character-level tokenization ignores the structure of the text, treating it as a sequence of characters. While it helps handle misspellings and rare words, it requires significant resources since linguistic structures like words need to be learned from scratch.\n",
        "\n",
        "For this reason, character tokenization is rarely used. Instead, approaches like word tokenization preserve the structure of the text more efficiently."
      ]
    },
    {
      "cell_type": "markdown",
      "metadata": {},
      "source": [
        "### Word Tokenization\n",
        "\n",
        "Unlike character-level tokenization, which treats text as a sequence of characters, word tokenization preserves the natural linguistic structure, making it more intuitive for analyzing and processing textual data.\n",
        "\n",
        "This method simplifies tasks like sentiment analysis, topic modeling, and text classification by focusing on meaningful units of language. While straightforward, word tokenization comes with challenges such as handling contractions, punctuation, and language-specific nuances. In this chapter, we will explore the principles, methods, and practical applications of word tokenization in NLP workflows.\n",
        "\n",
        "A straightforward class of word tokenizers relies on whitespace to split the text into tokens. This method of tokenization can be easily implemented using the `split()` function."
      ]
    },
    {
      "cell_type": "code",
      "execution_count": 32,
      "metadata": {},
      "outputs": [
        {
          "name": "stdout",
          "output_type": "stream",
          "text": [
            "['I', 'love', 'NLP!']\n"
          ]
        }
      ],
      "source": [
        "tokenized_text = input_text.split()\n",
        "print(tokenized_text)"
      ]
    },
    {
      "cell_type": "markdown",
      "metadata": {},
      "source": [
        "From here, we can follow the same steps presented earlier and map each word to a unique ID.\n",
        "\n",
        "A major limitation of this tokenization scheme is that it does not handle punctuation properly, treating terms like NLP as a single token. Additionally, variations such as declensions, conjugations, and misspellings can significantly expand the vocabulary, easily reaching millions of unique tokens."
      ]
    },
    {
      "cell_type": "markdown",
      "metadata": {},
      "source": [
        "### Subword Tokenization\n",
        "\n",
        "Subword tokenization is a technique that splits text into units smaller than whole words but larger than individual characters. The core idea is to strike a balance between character-level and word-level tokenization by breaking words into meaningful subparts or subwords. This approach helps address the limitations of traditional word and character tokenization, making it particularly effective in modern Natural Language Processing (NLP) models.\n",
        "\n",
        "### Principles of Subword Tokenization\n",
        "\n",
        "#### Handling Rare Words:\n",
        "- Instead of treating rare or unknown words as separate tokens, subword tokenization breaks them into smaller, more common subunits.\n",
        "- **For example:**\n",
        "  - Rare word: `\"unhappiness\"`\n",
        "  - Subwords: `[\"un\", \"happiness\"]`\n",
        "\n",
        "#### Combining Efficiency and Flexibility:\n",
        "- **Common words** are kept intact:  \n",
        "  `\"cat\"` → `[\"cat\"]`\n",
        "- **Uncommon or complex words** are split into smaller units:  \n",
        "  `\"internationalization\"` → `[\"inter\", \"national\", \"ization\"]`\n",
        "- This reduces the vocabulary size while still capturing meaningful linguistic information.\n",
        "\n",
        "#### Dealing with Misspellings and Variants:\n",
        "- Words with spelling errors or slight variations can share similar subword components, making models more robust to noise.\n",
        "- **Example:**  \n",
        "  `\"color\"` and `\"colour\"` may share subunits like `[\"col\", \"or\"]`.\n",
        "\n",
        "#### Vocabulary Efficiency:\n",
        "- Subword tokenization significantly reduces the vocabulary size compared to word-level tokenization, as the model doesn’t need to memorize every single word in the language.\n",
        "\n",
        "\n",
        "**Note:** There are several subword tokenization algorithms that are commoly used in NLP, but let's start with `WordPiece`, wich is used by DistilBERT tokenizers."
      ]
    },
    {
      "cell_type": "code",
      "execution_count": 33,
      "metadata": {},
      "outputs": [],
      "source": [
        "from transformers import AutoTokenizer\n",
        "\n",
        "model_ckpt = 'distilbert-base-uncased' #the \"uncased\" version means that all letters will be treated as lowercase, ignoring case sensitivity.\n",
        "tokenizer = AutoTokenizer.from_pretrained(model_ckpt) #Loads the tokenizer associated with the DistilBERT model."
      ]
    },
    {
      "cell_type": "markdown",
      "metadata": {},
      "source": [
        "The `AutoTokenizer` class is part of a broader family of **auto** classes designed to automatically retrieve a model's configuration, pretrained weights, or vocabulary based on the checkpoint name. This feature allows for seamless switching between models. However, if needed, you can also manually load a specific tokenizer class."
      ]
    },
    {
      "cell_type": "code",
      "execution_count": 34,
      "metadata": {},
      "outputs": [
        {
          "name": "stdout",
          "output_type": "stream",
          "text": [
            "{'input_ids': [101, 1045, 2293, 17953, 2361, 999, 102], 'attention_mask': [1, 1, 1, 1, 1, 1, 1]}\n"
          ]
        }
      ],
      "source": [
        "encoded_text = tokenizer(input_text)\n",
        "print(encoded_text)"
      ]
    },
    {
      "cell_type": "markdown",
      "metadata": {},
      "source": [
        "### Example for a Hypothetical Text\n",
        "\n",
        "For the text `\"I love NLP!\"` (based on DistilBERT's vocabulary), the tokenized output is:\n",
        "\n",
        "{'input_ids': [101, 1045, 2293, 17953, 2361, 999, 102], 'attention_mask': [1, 1, 1, 1, 1, 1, 1]}\n",
        "\n",
        "\n",
        "#### Breakdown of `input_ids`:\n",
        "- **101**: Special token `[CLS]`, added at the beginning of the text.\n",
        "- **1045**: Token for `\"I\"`.\n",
        "- **2293**: Token for `\"love\"`.\n",
        "- **17953**: Token for `\"NLP\"`.\n",
        "- **2361**: Token for `\"!\"`.\n",
        "- **999**: Token representing an unknown word or character (likely unrecognized punctuation or symbol).\n",
        "- **102**: Special token `[SEP]`, added at the end of the text.\n",
        "\n",
        "---\n",
        "\n",
        "### `attention_mask`\n",
        "\n",
        "The `attention_mask` indicates which tokens are relevant and should be processed by the model:\n",
        "\n",
        "- **1**: Indicates a relevant token (part of the actual input text).\n",
        "- **0**: Indicates an ignored token (e.g., padding).\n",
        "\n",
        "In this case, all mask values are `1` because the text does not require padding.\n"
      ]
    },
    {
      "cell_type": "code",
      "execution_count": 35,
      "metadata": {},
      "outputs": [
        {
          "name": "stdout",
          "output_type": "stream",
          "text": [
            "['[CLS]', 'i', 'love', 'nl', '##p', '!', '[SEP]']\n"
          ]
        }
      ],
      "source": [
        "tokens = tokenizer.convert_ids_to_tokens(encoded_text.input_ids)\n",
        "print(tokens)"
      ]
    }
  ],
  "metadata": {
    "colab": {
      "authorship_tag": "ABX9TyNXQIpN7p8Lk6LxX1h8K1WK",
      "include_colab_link": true,
      "mount_file_id": "1S_o_ubLAM_Lf_8_P4qCTkMWIUmyz6A5N",
      "provenance": []
    },
    "kernelspec": {
      "display_name": "base",
      "language": "python",
      "name": "python3"
    },
    "language_info": {
      "codemirror_mode": {
        "name": "ipython",
        "version": 3
      },
      "file_extension": ".py",
      "mimetype": "text/x-python",
      "name": "python",
      "nbconvert_exporter": "python",
      "pygments_lexer": "ipython3",
      "version": "3.11.7"
    }
  },
  "nbformat": 4,
  "nbformat_minor": 0
}
